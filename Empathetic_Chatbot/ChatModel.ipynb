{
 "cells": [
  {
   "cell_type": "code",
   "execution_count": 1,
   "id": "a4686a24-2bc8-4d11-a9db-38edfdfd1beb",
   "metadata": {},
   "outputs": [],
   "source": [
    "from transformers import (\n",
    "    AutoTokenizer, AutoModelForCausalLM, Trainer,\n",
    "    TrainingArguments, DataCollatorForLanguageModeling\n",
    ")\n",
    "from datasets import load_dataset\n",
    "import torch"
   ]
  },
  {
   "cell_type": "code",
   "execution_count": 2,
   "id": "5fe699b7-1b48-4125-984f-b55b460aa5b1",
   "metadata": {},
   "outputs": [],
   "source": [
    "model_name = \"distilgpt2\"  \n",
    "\n",
    "tokenizer = AutoTokenizer.from_pretrained(model_name)\n",
    "tokenizer.pad_token = tokenizer.eos_token  # Fix for GPT-2 which has no pad token\n",
    "\n",
    "model = AutoModelForCausalLM.from_pretrained(model_name)\n",
    "model.config.pad_token_id = tokenizer.pad_token_id"
   ]
  },
  {
   "cell_type": "code",
   "execution_count": 3,
   "id": "8c31bb2a-eca4-45f5-b784-4ee65cb32d07",
   "metadata": {},
   "outputs": [],
   "source": [
    "# Load the dataset\n",
    "dataset = load_dataset(\"empathetic_dialogues\", trust_remote_code=True)\n",
    "\n",
    "split_data = dataset[\"train\"].train_test_split(test_size=0.1)\n",
    "train_dataset = split_data[\"train\"]\n",
    "val_dataset = split_data[\"test\"]\n",
    "\n"
   ]
  },
  {
   "cell_type": "code",
   "execution_count": 4,
   "id": "c247ced6-bce3-4735-aa1a-bc78f0e65af3",
   "metadata": {},
   "outputs": [],
   "source": [
    "#quick testing\n",
    "train_dataset = train_dataset.select(range(500)) \n",
    "val_dataset = val_dataset.select(range(100))      \n"
   ]
  },
  {
   "cell_type": "code",
   "execution_count": 5,
   "id": "95c01bbb-3fea-438d-9114-dc7c2962e083",
   "metadata": {},
   "outputs": [
    {
     "data": {
      "application/vnd.jupyter.widget-view+json": {
       "model_id": "d55f28ebe28f44e395878d8f95f43855",
       "version_major": 2,
       "version_minor": 0
      },
      "text/plain": [
       "Map:   0%|          | 0/500 [00:00<?, ? examples/s]"
      ]
     },
     "metadata": {},
     "output_type": "display_data"
    },
    {
     "data": {
      "application/vnd.jupyter.widget-view+json": {
       "model_id": "c1db2aae68404d098608f11dc76ec671",
       "version_major": 2,
       "version_minor": 0
      },
      "text/plain": [
       "Map:   0%|          | 0/100 [00:00<?, ? examples/s]"
      ]
     },
     "metadata": {},
     "output_type": "display_data"
    }
   ],
   "source": [
    "def tokenize(example):\n",
    "    text = example[\"context\"] + \" </s> \" + example[\"utterance\"]\n",
    "    return tokenizer(text, truncation=True, padding=\"max_length\", max_length=128)\n",
    "\n",
    "tokenized_train = train_dataset.map(tokenize, batched=False)\n",
    "tokenized_val = val_dataset.map(tokenize, batched=False)"
   ]
  },
  {
   "cell_type": "code",
   "execution_count": 6,
   "id": "013e0f93-69c3-48e7-a4df-072c30a7e2ad",
   "metadata": {},
   "outputs": [],
   "source": [
    "data_collator = DataCollatorForLanguageModeling(\n",
    "    tokenizer=tokenizer,\n",
    "    mlm=False  # GPT is an auto-regressive model\n",
    ")"
   ]
  },
  {
   "cell_type": "code",
   "execution_count": 7,
   "id": "c9dde903-9d90-4345-a3bd-69b394dc1a2d",
   "metadata": {},
   "outputs": [],
   "source": [
    "training_args = TrainingArguments(\n",
    "    output_dir=\"./chatbot_model\",\n",
    "    eval_strategy=\"steps\",    \n",
    "    eval_steps=100,\n",
    "    logging_steps=10,\n",
    "    per_device_train_batch_size=4,\n",
    "    num_train_epochs=1,\n",
    "    learning_rate=5e-5,\n",
    "    weight_decay=0.01,\n",
    "    save_steps=100,\n",
    "    push_to_hub=False\n",
    ")"
   ]
  },
  {
   "cell_type": "code",
   "execution_count": 8,
   "id": "50f457f4-d3f0-424a-9f54-48196792c4a0",
   "metadata": {},
   "outputs": [
    {
     "name": "stderr",
     "output_type": "stream",
     "text": [
      "C:\\Users\\Shoaib\\AppData\\Local\\Temp\\ipykernel_27028\\47879161.py:1: FutureWarning: `tokenizer` is deprecated and will be removed in version 5.0.0 for `Trainer.__init__`. Use `processing_class` instead.\n",
      "  trainer = Trainer(\n"
     ]
    }
   ],
   "source": [
    "trainer = Trainer(\n",
    "    model=model,\n",
    "    args=training_args,\n",
    "    train_dataset=tokenized_train,\n",
    "    eval_dataset=tokenized_val,\n",
    "    tokenizer=tokenizer,\n",
    "    data_collator=data_collator\n",
    ")"
   ]
  },
  {
   "cell_type": "code",
   "execution_count": 9,
   "id": "1706d6b3-b8fc-4cf8-a072-b375cc2cd7b2",
   "metadata": {},
   "outputs": [
    {
     "name": "stderr",
     "output_type": "stream",
     "text": [
      "C:\\Users\\Shoaib\\.conda\\envs\\politechatbot-env\\lib\\site-packages\\torch\\utils\\data\\dataloader.py:665: UserWarning: 'pin_memory' argument is set as true but no accelerator is found, then device pinned memory won't be used.\n",
      "  warnings.warn(warn_msg)\n",
      "`loss_type=None` was set in the config but it is unrecognised.Using the default loss: `ForCausalLMLoss`.\n"
     ]
    },
    {
     "data": {
      "text/html": [
       "\n",
       "    <div>\n",
       "      \n",
       "      <progress value='125' max='125' style='width:300px; height:20px; vertical-align: middle;'></progress>\n",
       "      [125/125 06:25, Epoch 1/1]\n",
       "    </div>\n",
       "    <table border=\"1\" class=\"dataframe\">\n",
       "  <thead>\n",
       " <tr style=\"text-align: left;\">\n",
       "      <th>Step</th>\n",
       "      <th>Training Loss</th>\n",
       "      <th>Validation Loss</th>\n",
       "    </tr>\n",
       "  </thead>\n",
       "  <tbody>\n",
       "    <tr>\n",
       "      <td>100</td>\n",
       "      <td>3.110300</td>\n",
       "      <td>3.321325</td>\n",
       "    </tr>\n",
       "  </tbody>\n",
       "</table><p>"
      ],
      "text/plain": [
       "<IPython.core.display.HTML object>"
      ]
     },
     "metadata": {},
     "output_type": "display_data"
    },
    {
     "data": {
      "text/plain": [
       "TrainOutput(global_step=125, training_loss=3.3829935455322264, metrics={'train_runtime': 389.2858, 'train_samples_per_second': 1.284, 'train_steps_per_second': 0.321, 'total_flos': 16331046912000.0, 'train_loss': 3.3829935455322264, 'epoch': 1.0})"
      ]
     },
     "execution_count": 9,
     "metadata": {},
     "output_type": "execute_result"
    }
   ],
   "source": [
    "trainer.train()"
   ]
  },
  {
   "cell_type": "code",
   "execution_count": null,
   "id": "8d49e880-7a0b-42e0-bb08-bbad2921ed62",
   "metadata": {},
   "outputs": [],
   "source": [
    "trainer.save_model(\"./chatbot_model\")\n",
    "tokenizer.save_pretrained(\"./chatbot_model\")\n"
   ]
  },
  {
   "cell_type": "code",
   "execution_count": 13,
   "id": "1ddcb513-a1fc-447a-91c1-272c824212b5",
   "metadata": {},
   "outputs": [],
   "source": [
    "def respond(input_text):\n",
    "    inputs = tokenizer(input_text, return_tensors=\"pt\", padding=True)\n",
    "    output_ids = model.generate(\n",
    "        inputs[\"input_ids\"],\n",
    "        attention_mask=inputs[\"attention_mask\"],\n",
    "        max_length=70,\n",
    "        temperature=0.7,\n",
    "        top_p=0.9,\n",
    "        top_k=50,\n",
    "        do_sample=True,\n",
    "        pad_token_id=tokenizer.pad_token_id\n",
    "    )\n",
    "    return tokenizer.decode(output_ids[0], skip_special_tokens=True)\n",
    "\n",
    "\n",
    "\n"
   ]
  },
  {
   "cell_type": "code",
   "execution_count": 14,
   "id": "715e5963-8b21-4046-a62e-70bc4aa765ec",
   "metadata": {},
   "outputs": [
    {
     "name": "stdout",
     "output_type": "stream",
     "text": [
      "I'm feeling very anxious about everything lately. I am so excited about my house. I am so excited about it. My husband is also very happy. I am excited about my house. I hope my house is more like a home. It will be more like my house. I hope I can find someone who will be more happy than my wife\n"
     ]
    }
   ],
   "source": [
    "# Example\n",
    "print(respond(\"I'm feeling very anxious about everything lately.\"))"
   ]
  },
  {
   "cell_type": "code",
   "execution_count": null,
   "id": "edf7e5ed-a5ad-434d-99a6-c9e51253e369",
   "metadata": {},
   "outputs": [],
   "source": []
  }
 ],
 "metadata": {
  "kernelspec": {
   "display_name": "Python (politechatbot-env)",
   "language": "python",
   "name": "politechatbot-env"
  },
  "language_info": {
   "codemirror_mode": {
    "name": "ipython",
    "version": 3
   },
   "file_extension": ".py",
   "mimetype": "text/x-python",
   "name": "python",
   "nbconvert_exporter": "python",
   "pygments_lexer": "ipython3",
   "version": "3.9.23"
  }
 },
 "nbformat": 4,
 "nbformat_minor": 5
}
